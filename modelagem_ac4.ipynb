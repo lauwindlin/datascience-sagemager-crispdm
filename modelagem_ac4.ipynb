{
 "cells": [
  {
   "cell_type": "code",
   "execution_count": 1,
   "id": "5e9ef74d",
   "metadata": {},
   "outputs": [],
   "source": [
    "import sagemaker\n",
    "import boto3\n",
    "from sagemaker.session import Session\n",
    "from sagemaker.inputs import TrainingInput\n",
    "import pandas as pd\n",
    "from sagemaker.serializers import CSVSerializer\n",
    "import sklearn.metrics as metrics\n",
    "import numpy as np"
   ]
  },
  {
   "cell_type": "code",
   "execution_count": null,
   "id": "a14c1047",
   "metadata": {},
   "outputs": [],
   "source": [
    "#Modelagem utilizando o algoritmo XGBoost"
   ]
  },
  {
   "cell_type": "code",
   "execution_count": 2,
   "id": "79a5366b",
   "metadata": {},
   "outputs": [],
   "source": [
    "bucket = 's3://datascience-sagemaker-laurawindlin'\n",
    "role = sagemaker.get_execution_role()\n",
    "treinamento = f'{bucket}/treinamento.csv'\n",
    "validacao = f'{bucket}/validacao.csv'\n",
    "saida = f'{bucket}/saida'\n",
    "\n",
    "tipo_instancia = 'ml.m5.large'\n",
    "\n",
    "container = '811284229777.dkr.ecr.us-east-1.amazonaws.com/xgboost:latest'\n",
    "\n",
    "base_name = 'faltas-xgboost'\n",
    "\n",
    "hp = {\n",
    "    \"max_depth\": \"5\",\n",
    "    \"eta\": \"0.2\",\n",
    "    \"gamma\": \"4\",\n",
    "    \"min_child_weight\":\"6\",\n",
    "    \"subsample\":\"0.7\",\n",
    "    \"objective\":\"binary:logistic\",\n",
    "    \"num_round\": \"50\"\n",
    "}"
   ]
  },
  {
   "cell_type": "code",
   "execution_count": null,
   "id": "13e019c2",
   "metadata": {},
   "outputs": [],
   "source": [
    "#Construindo o estimador"
   ]
  },
  {
   "cell_type": "code",
   "execution_count": 3,
   "id": "adf7356d",
   "metadata": {},
   "outputs": [],
   "source": [
    "estimador = sagemaker.estimator.Estimator(\n",
    "    base_name=base_name,\n",
    "    image_uri=container,\n",
    "    hyperparameters = hp,\n",
    "    role=role,\n",
    "    instance_count=1,\n",
    "    instance_type=tipo_instancia,\n",
    "    volume_size=5,\n",
    "    output_path=saida\n",
    ")"
   ]
  },
  {
   "cell_type": "code",
   "execution_count": 4,
   "id": "39ce9d27",
   "metadata": {},
   "outputs": [],
   "source": [
    "treinamento_input = TrainingInput(treinamento, content_type='csv')\n",
    "validacao_input = TrainingInput(validacao, content_type='csv')"
   ]
  },
  {
   "cell_type": "code",
   "execution_count": null,
   "id": "9d1200ff",
   "metadata": {},
   "outputs": [],
   "source": [
    "#Implantação do modelo no SageMaker"
   ]
  },
  {
   "cell_type": "code",
   "execution_count": 5,
   "id": "f7b965ec",
   "metadata": {},
   "outputs": [
    {
     "name": "stdout",
     "output_type": "stream",
     "text": [
      "2022-05-02 16:14:23 Starting - Starting the training job...ProfilerReport-1651508062: InProgress\n",
      "...\n",
      "2022-05-02 16:14:55 Starting - Preparing the instances for training......\n",
      "2022-05-02 16:16:21 Downloading - Downloading input data......\n",
      "2022-05-02 16:17:21 Training - Downloading the training image.....\u001b[34mArguments: train\u001b[0m\n",
      "\u001b[34m[2022-05-02:16:18:01:INFO] Running standalone xgboost training.\u001b[0m\n",
      "\u001b[34m[2022-05-02:16:18:01:INFO] File size need to be processed in the node: 0.03mb. Available memory size in the node: 300.18mb\u001b[0m\n",
      "\u001b[34m[2022-05-02:16:18:01:INFO] Determined delimiter of CSV input is ','\u001b[0m\n",
      "\u001b[34m[16:18:01] S3DistributionType set as FullyReplicated\u001b[0m\n",
      "\u001b[34m[16:18:01] 518x8 matrix with 4144 entries loaded from /opt/ml/input/data/train?format=csv&label_column=0&delimiter=,\u001b[0m\n",
      "\u001b[34m[2022-05-02:16:18:01:INFO] Determined delimiter of CSV input is ','\u001b[0m\n",
      "\u001b[34m[16:18:01] S3DistributionType set as FullyReplicated\u001b[0m\n",
      "\u001b[34m[16:18:01] 148x8 matrix with 1184 entries loaded from /opt/ml/input/data/validation?format=csv&label_column=0&delimiter=,\u001b[0m\n",
      "\u001b[34m[16:18:01] src/tree/updater_prune.cc:74: tree pruning end, 1 roots, 0 extra nodes, 2 pruned nodes, max_depth=0\u001b[0m\n",
      "\u001b[34m[0]#011train-error:0.052124#011validation-error:0.060811\u001b[0m\n",
      "\u001b[34m[16:18:01] src/tree/updater_prune.cc:74: tree pruning end, 1 roots, 0 extra nodes, 4 pruned nodes, max_depth=0\u001b[0m\n",
      "\u001b[34m[1]#011train-error:0.052124#011validation-error:0.060811\u001b[0m\n",
      "\u001b[34m[16:18:01] src/tree/updater_prune.cc:74: tree pruning end, 1 roots, 0 extra nodes, 2 pruned nodes, max_depth=0\u001b[0m\n",
      "\u001b[34m[2]#011train-error:0.052124#011validation-error:0.060811\u001b[0m\n",
      "\u001b[34m[16:18:01] src/tree/updater_prune.cc:74: tree pruning end, 1 roots, 0 extra nodes, 2 pruned nodes, max_depth=0\u001b[0m\n",
      "\u001b[34m[3]#011train-error:0.052124#011validation-error:0.060811\u001b[0m\n",
      "\u001b[34m[16:18:01] src/tree/updater_prune.cc:74: tree pruning end, 1 roots, 2 extra nodes, 0 pruned nodes, max_depth=1\u001b[0m\n",
      "\u001b[34m[4]#011train-error:0.052124#011validation-error:0.060811\u001b[0m\n",
      "\u001b[34m[16:18:01] src/tree/updater_prune.cc:74: tree pruning end, 1 roots, 0 extra nodes, 2 pruned nodes, max_depth=0\u001b[0m\n",
      "\u001b[34m[5]#011train-error:0.052124#011validation-error:0.060811\u001b[0m\n",
      "\u001b[34m[16:18:01] src/tree/updater_prune.cc:74: tree pruning end, 1 roots, 2 extra nodes, 0 pruned nodes, max_depth=1\u001b[0m\n",
      "\u001b[34m[6]#011train-error:0.052124#011validation-error:0.060811\u001b[0m\n",
      "\u001b[34m[16:18:01] src/tree/updater_prune.cc:74: tree pruning end, 1 roots, 0 extra nodes, 2 pruned nodes, max_depth=0\u001b[0m\n",
      "\u001b[34m[7]#011train-error:0.052124#011validation-error:0.060811\u001b[0m\n",
      "\u001b[34m[16:18:01] src/tree/updater_prune.cc:74: tree pruning end, 1 roots, 0 extra nodes, 6 pruned nodes, max_depth=0\u001b[0m\n",
      "\u001b[34m[8]#011train-error:0.052124#011validation-error:0.060811\u001b[0m\n",
      "\u001b[34m[16:18:01] src/tree/updater_prune.cc:74: tree pruning end, 1 roots, 0 extra nodes, 4 pruned nodes, max_depth=0\u001b[0m\n",
      "\u001b[34m[9]#011train-error:0.052124#011validation-error:0.060811\u001b[0m\n",
      "\u001b[34m[16:18:01] src/tree/updater_prune.cc:74: tree pruning end, 1 roots, 0 extra nodes, 4 pruned nodes, max_depth=0\u001b[0m\n",
      "\u001b[34m[10]#011train-error:0.052124#011validation-error:0.060811\u001b[0m\n",
      "\u001b[34m[16:18:01] src/tree/updater_prune.cc:74: tree pruning end, 1 roots, 2 extra nodes, 4 pruned nodes, max_depth=1\u001b[0m\n",
      "\u001b[34m[11]#011train-error:0.052124#011validation-error:0.060811\u001b[0m\n",
      "\u001b[34m[16:18:01] src/tree/updater_prune.cc:74: tree pruning end, 1 roots, 2 extra nodes, 4 pruned nodes, max_depth=1\u001b[0m\n",
      "\u001b[34m[12]#011train-error:0.052124#011validation-error:0.060811\u001b[0m\n",
      "\u001b[34m[16:18:01] src/tree/updater_prune.cc:74: tree pruning end, 1 roots, 0 extra nodes, 4 pruned nodes, max_depth=0\u001b[0m\n",
      "\u001b[34m[13]#011train-error:0.052124#011validation-error:0.060811\u001b[0m\n",
      "\u001b[34m[16:18:01] src/tree/updater_prune.cc:74: tree pruning end, 1 roots, 0 extra nodes, 4 pruned nodes, max_depth=0\u001b[0m\n",
      "\u001b[34m[14]#011train-error:0.052124#011validation-error:0.060811\u001b[0m\n",
      "\u001b[34m[16:18:01] src/tree/updater_prune.cc:74: tree pruning end, 1 roots, 0 extra nodes, 4 pruned nodes, max_depth=0\u001b[0m\n",
      "\u001b[34m[15]#011train-error:0.052124#011validation-error:0.060811\u001b[0m\n",
      "\u001b[34m[16:18:01] src/tree/updater_prune.cc:74: tree pruning end, 1 roots, 0 extra nodes, 4 pruned nodes, max_depth=0\u001b[0m\n",
      "\u001b[34m[16]#011train-error:0.052124#011validation-error:0.060811\u001b[0m\n",
      "\u001b[34m[16:18:01] src/tree/updater_prune.cc:74: tree pruning end, 1 roots, 2 extra nodes, 2 pruned nodes, max_depth=1\u001b[0m\n",
      "\u001b[34m[17]#011train-error:0.052124#011validation-error:0.060811\u001b[0m\n",
      "\u001b[34m[16:18:01] src/tree/updater_prune.cc:74: tree pruning end, 1 roots, 0 extra nodes, 4 pruned nodes, max_depth=0\u001b[0m\n",
      "\u001b[34m[18]#011train-error:0.052124#011validation-error:0.060811\u001b[0m\n",
      "\u001b[34m[16:18:01] src/tree/updater_prune.cc:74: tree pruning end, 1 roots, 0 extra nodes, 4 pruned nodes, max_depth=0\u001b[0m\n",
      "\u001b[34m[19]#011train-error:0.052124#011validation-error:0.060811\u001b[0m\n",
      "\u001b[34m[16:18:01] src/tree/updater_prune.cc:74: tree pruning end, 1 roots, 0 extra nodes, 4 pruned nodes, max_depth=0\u001b[0m\n",
      "\u001b[34m[20]#011train-error:0.052124#011validation-error:0.060811\u001b[0m\n",
      "\u001b[34m[16:18:01] src/tree/updater_prune.cc:74: tree pruning end, 1 roots, 0 extra nodes, 2 pruned nodes, max_depth=0\u001b[0m\n",
      "\u001b[34m[21]#011train-error:0.052124#011validation-error:0.060811\u001b[0m\n",
      "\u001b[34m[16:18:01] src/tree/updater_prune.cc:74: tree pruning end, 1 roots, 2 extra nodes, 0 pruned nodes, max_depth=1\u001b[0m\n",
      "\u001b[34m[22]#011train-error:0.052124#011validation-error:0.060811\u001b[0m\n",
      "\u001b[34m[16:18:01] src/tree/updater_prune.cc:74: tree pruning end, 1 roots, 0 extra nodes, 2 pruned nodes, max_depth=0\u001b[0m\n",
      "\u001b[34m[23]#011train-error:0.052124#011validation-error:0.060811\u001b[0m\n",
      "\u001b[34m[16:18:01] src/tree/updater_prune.cc:74: tree pruning end, 1 roots, 0 extra nodes, 2 pruned nodes, max_depth=0\u001b[0m\n",
      "\u001b[34m[24]#011train-error:0.052124#011validation-error:0.060811\u001b[0m\n",
      "\u001b[34m[16:18:01] src/tree/updater_prune.cc:74: tree pruning end, 1 roots, 2 extra nodes, 0 pruned nodes, max_depth=1\u001b[0m\n",
      "\u001b[34m[25]#011train-error:0.052124#011validation-error:0.060811\u001b[0m\n",
      "\u001b[34m[16:18:01] src/tree/updater_prune.cc:74: tree pruning end, 1 roots, 0 extra nodes, 2 pruned nodes, max_depth=0\u001b[0m\n",
      "\u001b[34m[26]#011train-error:0.052124#011validation-error:0.060811\u001b[0m\n",
      "\u001b[34m[16:18:01] src/tree/updater_prune.cc:74: tree pruning end, 1 roots, 0 extra nodes, 2 pruned nodes, max_depth=0\u001b[0m\n",
      "\u001b[34m[27]#011train-error:0.052124#011validation-error:0.060811\u001b[0m\n",
      "\u001b[34m[16:18:01] src/tree/updater_prune.cc:74: tree pruning end, 1 roots, 0 extra nodes, 2 pruned nodes, max_depth=0\u001b[0m\n",
      "\u001b[34m[28]#011train-error:0.052124#011validation-error:0.060811\u001b[0m\n",
      "\u001b[34m[16:18:01] src/tree/updater_prune.cc:74: tree pruning end, 1 roots, 0 extra nodes, 2 pruned nodes, max_depth=0\u001b[0m\n",
      "\u001b[34m[29]#011train-error:0.052124#011validation-error:0.060811\u001b[0m\n",
      "\u001b[34m[16:18:01] src/tree/updater_prune.cc:74: tree pruning end, 1 roots, 0 extra nodes, 2 pruned nodes, max_depth=0\u001b[0m\n",
      "\u001b[34m[30]#011train-error:0.052124#011validation-error:0.060811\u001b[0m\n",
      "\u001b[34m[16:18:01] src/tree/updater_prune.cc:74: tree pruning end, 1 roots, 0 extra nodes, 2 pruned nodes, max_depth=0\u001b[0m\n",
      "\u001b[34m[31]#011train-error:0.052124#011validation-error:0.060811\u001b[0m\n",
      "\u001b[34m[16:18:01] src/tree/updater_prune.cc:74: tree pruning end, 1 roots, 0 extra nodes, 2 pruned nodes, max_depth=0\u001b[0m\n",
      "\u001b[34m[32]#011train-error:0.052124#011validation-error:0.060811\u001b[0m\n",
      "\u001b[34m[16:18:01] src/tree/updater_prune.cc:74: tree pruning end, 1 roots, 0 extra nodes, 2 pruned nodes, max_depth=0\u001b[0m\n",
      "\u001b[34m[33]#011train-error:0.052124#011validation-error:0.060811\u001b[0m\n",
      "\u001b[34m[16:18:01] src/tree/updater_prune.cc:74: tree pruning end, 1 roots, 0 extra nodes, 2 pruned nodes, max_depth=0\u001b[0m\n",
      "\u001b[34m[16:18:01] src/tree/updater_prune.cc:74: tree pruning end, 1 roots, 0 extra nodes, 2 pruned nodes, max_depth=0\u001b[0m\n",
      "\u001b[34m[34]#011train-error:0.052124#011validation-error:0.060811\u001b[0m\n",
      "\u001b[34m[35]#011train-error:0.052124#011validation-error:0.060811\u001b[0m\n",
      "\u001b[34m[16:18:01] src/tree/updater_prune.cc:74: tree pruning end, 1 roots, 0 extra nodes, 2 pruned nodes, max_depth=0\u001b[0m\n",
      "\u001b[34m[36]#011train-error:0.052124#011validation-error:0.060811\u001b[0m\n",
      "\u001b[34m[16:18:01] src/tree/updater_prune.cc:74: tree pruning end, 1 roots, 0 extra nodes, 2 pruned nodes, max_depth=0\u001b[0m\n",
      "\u001b[34m[37]#011train-error:0.052124#011validation-error:0.060811\u001b[0m\n",
      "\u001b[34m[16:18:01] src/tree/updater_prune.cc:74: tree pruning end, 1 roots, 0 extra nodes, 2 pruned nodes, max_depth=0\u001b[0m\n",
      "\u001b[34m[38]#011train-error:0.052124#011validation-error:0.060811\u001b[0m\n",
      "\u001b[34m[16:18:01] src/tree/updater_prune.cc:74: tree pruning end, 1 roots, 0 extra nodes, 2 pruned nodes, max_depth=0\u001b[0m\n",
      "\u001b[34m[39]#011train-error:0.052124#011validation-error:0.060811\u001b[0m\n",
      "\u001b[34m[16:18:01] src/tree/updater_prune.cc:74: tree pruning end, 1 roots, 0 extra nodes, 2 pruned nodes, max_depth=0\u001b[0m\n",
      "\u001b[34m[40]#011train-error:0.052124#011validation-error:0.060811\u001b[0m\n",
      "\u001b[34m[16:18:01] src/tree/updater_prune.cc:74: tree pruning end, 1 roots, 0 extra nodes, 2 pruned nodes, max_depth=0\u001b[0m\n",
      "\u001b[34m[41]#011train-error:0.052124#011validation-error:0.060811\u001b[0m\n",
      "\u001b[34m[16:18:01] src/tree/updater_prune.cc:74: tree pruning end, 1 roots, 2 extra nodes, 0 pruned nodes, max_depth=1\u001b[0m\n",
      "\u001b[34m[42]#011train-error:0.052124#011validation-error:0.060811\u001b[0m\n",
      "\u001b[34m[16:18:01] src/tree/updater_prune.cc:74: tree pruning end, 1 roots, 0 extra nodes, 2 pruned nodes, max_depth=0\u001b[0m\n",
      "\u001b[34m[43]#011train-error:0.052124#011validation-error:0.060811\u001b[0m\n",
      "\u001b[34m[16:18:01] src/tree/updater_prune.cc:74: tree pruning end, 1 roots, 0 extra nodes, 2 pruned nodes, max_depth=0\u001b[0m\n",
      "\u001b[34m[44]#011train-error:0.052124#011validation-error:0.060811\u001b[0m\n",
      "\u001b[34m[16:18:01] src/tree/updater_prune.cc:74: tree pruning end, 1 roots, 0 extra nodes, 2 pruned nodes, max_depth=0\u001b[0m\n",
      "\u001b[34m[45]#011train-error:0.052124#011validation-error:0.060811\u001b[0m\n",
      "\u001b[34m[16:18:01] src/tree/updater_prune.cc:74: tree pruning end, 1 roots, 0 extra nodes, 2 pruned nodes, max_depth=0\u001b[0m\n",
      "\u001b[34m[46]#011train-error:0.052124#011validation-error:0.060811\u001b[0m\n",
      "\u001b[34m[16:18:01] src/tree/updater_prune.cc:74: tree pruning end, 1 roots, 0 extra nodes, 2 pruned nodes, max_depth=0\u001b[0m\n",
      "\u001b[34m[47]#011train-error:0.052124#011validation-error:0.060811\u001b[0m\n",
      "\u001b[34m[16:18:01] src/tree/updater_prune.cc:74: tree pruning end, 1 roots, 0 extra nodes, 2 pruned nodes, max_depth=0\u001b[0m\n",
      "\u001b[34m[48]#011train-error:0.052124#011validation-error:0.060811\u001b[0m\n",
      "\u001b[34m[16:18:01] src/tree/updater_prune.cc:74: tree pruning end, 1 roots, 0 extra nodes, 2 pruned nodes, max_depth=0\u001b[0m\n",
      "\u001b[34m[49]#011train-error:0.052124#011validation-error:0.060811\u001b[0m\n",
      "\n",
      "2022-05-02 16:18:21 Uploading - Uploading generated training model\n",
      "2022-05-02 16:18:21 Completed - Training job completed\n",
      "Training seconds: 117\n",
      "Billable seconds: 117\n"
     ]
    }
   ],
   "source": [
    "estimador.fit({\n",
    "    'train':treinamento_input,\n",
    "    'validation':validacao_input\n",
    "})"
   ]
  },
  {
   "cell_type": "code",
   "execution_count": 6,
   "id": "446046c2",
   "metadata": {},
   "outputs": [
    {
     "name": "stdout",
     "output_type": "stream",
     "text": [
      "-----!"
     ]
    }
   ],
   "source": [
    "predictor = estimador.deploy(\n",
    "    initial_instance_count=1, \n",
    "    instance_type=tipo_instancia,\n",
    "    serializer=CSVSerializer(), \n",
    "    endpoint_name='datascience-xgboost-ac'\n",
    ")"
   ]
  },
  {
   "cell_type": "code",
   "execution_count": null,
   "id": "c0fc146c",
   "metadata": {},
   "outputs": [],
   "source": [
    "#Avalição do modelo com base de testes"
   ]
  },
  {
   "cell_type": "code",
   "execution_count": 8,
   "id": "63e77cef",
   "metadata": {},
   "outputs": [],
   "source": [
    "dados_teste = pd.read_csv('dados/teste.csv')\n",
    "\n",
    "predictions = []\n",
    "for index, row in dados_teste.iterrows():\n",
    "    p = predictor.predict(row[1:])\n",
    "    predictions.append(float(p.decode('utf8')))\n",
    "\n",
    "predictions = np.array(predictions)"
   ]
  },
  {
   "cell_type": "code",
   "execution_count": 9,
   "id": "7e9890d5",
   "metadata": {},
   "outputs": [
    {
     "data": {
      "text/plain": [
       "array([0.13265353, 0.03146214, 0.03146214, 0.03146214, 0.03819143,\n",
       "       0.05735774, 0.03146214, 0.03146214, 0.03819143, 0.03146214,\n",
       "       0.05735774, 0.03819143, 0.03146214, 0.03146214, 0.03146214,\n",
       "       0.03146214, 0.03146214, 0.13265353, 0.03146214, 0.05735774,\n",
       "       0.13265353, 0.03819143, 0.03146214, 0.03146214, 0.03819143,\n",
       "       0.03146214, 0.05735774, 0.13265353, 0.03819143, 0.05735774,\n",
       "       0.03146214, 0.13265353, 0.05735774, 0.03146214, 0.06979008,\n",
       "       0.03819143, 0.03146214, 0.03146214, 0.03819143, 0.05735774,\n",
       "       0.06979008, 0.03146214, 0.03146214, 0.05735774, 0.03819143,\n",
       "       0.03146214, 0.03819143, 0.03146214, 0.03146214, 0.03819143,\n",
       "       0.03146214, 0.13265353, 0.03146214, 0.03146214, 0.03146214,\n",
       "       0.03146214, 0.03146214, 0.03146214, 0.06979008, 0.03146214,\n",
       "       0.05735774, 0.05735774, 0.05735774, 0.03819143, 0.05735774,\n",
       "       0.03146214, 0.13265353, 0.03146214, 0.03146214, 0.03146214,\n",
       "       0.11120456, 0.03819143, 0.05735774, 0.03146214])"
      ]
     },
     "execution_count": 9,
     "metadata": {},
     "output_type": "execute_result"
    }
   ],
   "source": [
    "predictions"
   ]
  },
  {
   "cell_type": "code",
   "execution_count": 10,
   "id": "d2b8f78f",
   "metadata": {},
   "outputs": [
    {
     "data": {
      "text/plain": [
       "array([0, 0, 0, 0, 0, 0, 0, 0, 0, 0, 0, 0, 0, 0, 0, 0, 0, 0, 0, 0, 0, 0,\n",
       "       0, 0, 0, 0, 0, 0, 0, 0, 0, 0, 0, 0, 0, 0, 0, 0, 0, 0, 0, 0, 0, 0,\n",
       "       0, 0, 0, 0, 0, 0, 0, 0, 0, 0, 0, 0, 0, 0, 0, 0, 0, 0, 0, 0, 0, 0,\n",
       "       0, 0, 0, 0, 0, 0, 0, 0])"
      ]
     },
     "execution_count": 10,
     "metadata": {},
     "output_type": "execute_result"
    }
   ],
   "source": [
    "predictions = np.where(predictions > 0.5, 1, 0)\n",
    "predictions"
   ]
  },
  {
   "cell_type": "code",
   "execution_count": 11,
   "id": "6a788a8a",
   "metadata": {},
   "outputs": [
    {
     "name": "stdout",
     "output_type": "stream",
     "text": [
      "              precision    recall  f1-score   support\n",
      "\n",
      "           0       0.95      1.00      0.97        70\n",
      "           1       0.00      0.00      0.00         4\n",
      "\n",
      "    accuracy                           0.95        74\n",
      "   macro avg       0.47      0.50      0.49        74\n",
      "weighted avg       0.89      0.95      0.92        74\n",
      "\n"
     ]
    },
    {
     "name": "stderr",
     "output_type": "stream",
     "text": [
      "/home/ec2-user/anaconda3/envs/python3/lib/python3.6/site-packages/sklearn/metrics/_classification.py:1245: UndefinedMetricWarning: Precision and F-score are ill-defined and being set to 0.0 in labels with no predicted samples. Use `zero_division` parameter to control this behavior.\n",
      "  _warn_prf(average, modifier, msg_start, len(result))\n",
      "/home/ec2-user/anaconda3/envs/python3/lib/python3.6/site-packages/sklearn/metrics/_classification.py:1245: UndefinedMetricWarning: Precision and F-score are ill-defined and being set to 0.0 in labels with no predicted samples. Use `zero_division` parameter to control this behavior.\n",
      "  _warn_prf(average, modifier, msg_start, len(result))\n",
      "/home/ec2-user/anaconda3/envs/python3/lib/python3.6/site-packages/sklearn/metrics/_classification.py:1245: UndefinedMetricWarning: Precision and F-score are ill-defined and being set to 0.0 in labels with no predicted samples. Use `zero_division` parameter to control this behavior.\n",
      "  _warn_prf(average, modifier, msg_start, len(result))\n"
     ]
    }
   ],
   "source": [
    "print(metrics.classification_report(dados_teste.iloc[:, 0], predictions))"
   ]
  },
  {
   "cell_type": "code",
   "execution_count": null,
   "id": "3a0e250e",
   "metadata": {},
   "outputs": [],
   "source": []
  }
 ],
 "metadata": {
  "kernelspec": {
   "display_name": "conda_python3",
   "language": "python",
   "name": "conda_python3"
  },
  "language_info": {
   "codemirror_mode": {
    "name": "ipython",
    "version": 3
   },
   "file_extension": ".py",
   "mimetype": "text/x-python",
   "name": "python",
   "nbconvert_exporter": "python",
   "pygments_lexer": "ipython3",
   "version": "3.6.13"
  }
 },
 "nbformat": 4,
 "nbformat_minor": 5
}
